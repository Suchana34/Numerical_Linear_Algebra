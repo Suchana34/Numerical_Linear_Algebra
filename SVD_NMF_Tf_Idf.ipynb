{
  "nbformat": 4,
  "nbformat_minor": 0,
  "metadata": {
    "colab": {
      "name": "SVD_NMF_Tf-Idf.ipynb",
      "provenance": []
    },
    "kernelspec": {
      "name": "python3",
      "display_name": "Python 3"
    }
  },
  "cells": [
    {
      "cell_type": "markdown",
      "metadata": {
        "id": "lQTfe3UQEgeG",
        "colab_type": "text"
      },
      "source": [
        "Topic Modeling with NMF and SVD\n",
        "\n",
        "The optimal decomposition would now be to cluster the documents into two groups, each of which has as different a distribution of words as possible to each other, but as similar as possible amongst the documents in the cluster. We will call those two groups \"topics\". And we would cluster the words into two groups, based on those which most frequently appear in each of the topics"
      ]
    },
    {
      "cell_type": "code",
      "metadata": {
        "id": "zm86tC7FEi70",
        "colab_type": "code",
        "colab": {}
      },
      "source": [
        "import numpy as np\n",
        "from sklearn import decomposition\n",
        "from scipy import linalg\n",
        "import matplotlib.pyplot as plt"
      ],
      "execution_count": 1,
      "outputs": []
    },
    {
      "cell_type": "code",
      "metadata": {
        "id": "98e7kYabEi44",
        "colab_type": "code",
        "colab": {}
      },
      "source": [
        "from google.colab import drive\n",
        "#drive.mount('/content/drive')"
      ],
      "execution_count": 3,
      "outputs": []
    },
    {
      "cell_type": "code",
      "metadata": {
        "id": "_p5ejBQbEi1q",
        "colab_type": "code",
        "colab": {}
      },
      "source": [
        "import pandas as pd\n",
        "df = pd.read_csv('/content/drive/My Drive/edited_topics_all_news.csv')"
      ],
      "execution_count": 4,
      "outputs": []
    },
    {
      "cell_type": "code",
      "metadata": {
        "id": "QvF7Pe5ZEi0E",
        "colab_type": "code",
        "colab": {
          "base_uri": "https://localhost:8080/",
          "height": 34
        },
        "outputId": "0434ce41-4c1f-4da7-d7cc-5af62e4042da"
      },
      "source": [
        "X = df.processed_content\n",
        "from sklearn.utils import shuffle\n",
        "\n",
        "X = shuffle(X, random_state = 4)\n",
        "\n",
        "y = df.processed_topic\n",
        "y = shuffle(y, random_state = 4)\n",
        "\n",
        "from sklearn.model_selection import train_test_split\n",
        "\n",
        "\n",
        "Xtrain, Xtest, ytrain, ytest = train_test_split(X, y, train_size=0.7)\n",
        "print(Xtrain.shape, ytrain.shape, Xtest.shape, ytest.shape)"
      ],
      "execution_count": 6,
      "outputs": [
        {
          "output_type": "stream",
          "text": [
            "(891,) (891,) (383,) (383,)\n"
          ],
          "name": "stdout"
        }
      ]
    },
    {
      "cell_type": "code",
      "metadata": {
        "id": "m1WG9iPUEixG",
        "colab_type": "code",
        "colab": {
          "base_uri": "https://localhost:8080/",
          "height": 34
        },
        "outputId": "89a44729-f487-4eae-add6-a7fa949c3df9"
      },
      "source": [
        "from sklearn.feature_extraction.text import CountVectorizer, TfidfVectorizer\n",
        "\n",
        "vectorizer = CountVectorizer(stop_words='english')\n",
        "vectors = vectorizer.fit_transform(Xtrain).todense() # (documents, vocab)\n",
        "vectors.shape #, vectors.nnz / vectors.shape[0], row_means.shape"
      ],
      "execution_count": 8,
      "outputs": [
        {
          "output_type": "execute_result",
          "data": {
            "text/plain": [
              "(891, 15499)"
            ]
          },
          "metadata": {
            "tags": []
          },
          "execution_count": 8
        }
      ]
    },
    {
      "cell_type": "code",
      "metadata": {
        "id": "WD6S5XLGEivm",
        "colab_type": "code",
        "colab": {
          "base_uri": "https://localhost:8080/",
          "height": 34
        },
        "outputId": "a88de455-d38c-4392-e7a0-5bf3af80d02b"
      },
      "source": [
        "print(len(Xtrain), vectors.shape)"
      ],
      "execution_count": 9,
      "outputs": [
        {
          "output_type": "stream",
          "text": [
            "891 (891, 15499)\n"
          ],
          "name": "stdout"
        }
      ]
    },
    {
      "cell_type": "code",
      "metadata": {
        "id": "9MkgV-2uHyDh",
        "colab_type": "code",
        "colab": {}
      },
      "source": [
        "vocab = np.array(vectorizer.get_feature_names())"
      ],
      "execution_count": 10,
      "outputs": []
    },
    {
      "cell_type": "code",
      "metadata": {
        "id": "i38Y8LOKH26X",
        "colab_type": "code",
        "colab": {
          "base_uri": "https://localhost:8080/",
          "height": 34
        },
        "outputId": "70b6f423-ada1-44ae-c90a-8f28f86fdaac"
      },
      "source": [
        "vocab.shape"
      ],
      "execution_count": 11,
      "outputs": [
        {
          "output_type": "execute_result",
          "data": {
            "text/plain": [
              "(15499,)"
            ]
          },
          "metadata": {
            "tags": []
          },
          "execution_count": 11
        }
      ]
    },
    {
      "cell_type": "code",
      "metadata": {
        "id": "G4-HeOC0H5f3",
        "colab_type": "code",
        "colab": {
          "base_uri": "https://localhost:8080/",
          "height": 84
        },
        "outputId": "c80a5a4d-d53e-4227-cfb5-d386aff9d911"
      },
      "source": [
        "vocab[7000:7020]"
      ],
      "execution_count": 12,
      "outputs": [
        {
          "output_type": "execute_result",
          "data": {
            "text/plain": [
              "array(['jorg', 'jose', 'josep', 'joseph', 'joshi', 'joshna', 'joshua',\n",
              "       'jostl', 'journal', 'journalist', 'journey', 'joust', 'jowl',\n",
              "       'joyc', 'joydeep', 'joypoor', 'jstor', 'juan', 'jubil', 'jubile'],\n",
              "      dtype='<U15')"
            ]
          },
          "metadata": {
            "tags": []
          },
          "execution_count": 12
        }
      ]
    },
    {
      "cell_type": "code",
      "metadata": {
        "id": "Ht35T7nMH8Fz",
        "colab_type": "code",
        "colab": {}
      },
      "source": [
        ""
      ],
      "execution_count": null,
      "outputs": []
    },
    {
      "cell_type": "markdown",
      "metadata": {
        "id": "T0gqMCmMIBpF",
        "colab_type": "text"
      },
      "source": [
        "Singular Value Decomposition (SVD)\n",
        "\n",
        "The SVD algorithm factorizes a matrix into one matrix with orthogonal columns and one with orthogonal rows (along with a diagonal matrix, which contains the relative importance of each factor)."
      ]
    },
    {
      "cell_type": "code",
      "metadata": {
        "id": "rAk2aT-rIJGD",
        "colab_type": "code",
        "colab": {
          "base_uri": "https://localhost:8080/",
          "height": 50
        },
        "outputId": "ab1c665e-f809-4c1e-a4ba-094167a836a9"
      },
      "source": [
        "%time U, s, Vh = linalg.svd(vectors, full_matrices=False)"
      ],
      "execution_count": 13,
      "outputs": [
        {
          "output_type": "stream",
          "text": [
            "CPU times: user 12.2 s, sys: 1.15 s, total: 13.3 s\n",
            "Wall time: 7.01 s\n"
          ],
          "name": "stdout"
        }
      ]
    },
    {
      "cell_type": "code",
      "metadata": {
        "id": "TvBJ1Y7UIQL4",
        "colab_type": "code",
        "colab": {
          "base_uri": "https://localhost:8080/",
          "height": 34
        },
        "outputId": "14c50958-f897-4903-831a-c56da6b4ae93"
      },
      "source": [
        "print(U.shape, s.shape, Vh.shape)"
      ],
      "execution_count": 14,
      "outputs": [
        {
          "output_type": "stream",
          "text": [
            "(891, 891) (891,) (891, 15499)\n"
          ],
          "name": "stdout"
        }
      ]
    },
    {
      "cell_type": "code",
      "metadata": {
        "id": "e5WnVVrFIXDo",
        "colab_type": "code",
        "colab": {
          "base_uri": "https://localhost:8080/",
          "height": 235
        },
        "outputId": "34b667ca-ddf8-4a22-e4a8-471b63c53523"
      },
      "source": [
        "#Confirm this is a decomposition of the input\n",
        "U"
      ],
      "execution_count": 15,
      "outputs": [
        {
          "output_type": "execute_result",
          "data": {
            "text/plain": [
              "array([[-7.78144625e-03,  8.72524192e-03,  8.57717794e-03, ...,\n",
              "         3.32451413e-16, -9.51033487e-17,  2.30121911e-17],\n",
              "       [-3.95755882e-02,  5.17740647e-02,  1.84249261e-02, ...,\n",
              "         2.03086755e-02, -4.46246345e-02,  1.81672427e-02],\n",
              "       [-5.64689880e-03,  8.16636441e-03,  3.43396960e-03, ...,\n",
              "         3.08856738e-16,  4.04749612e-16,  6.06424768e-17],\n",
              "       ...,\n",
              "       [-1.81561439e-02,  2.44572640e-02,  4.37287449e-03, ...,\n",
              "         1.31838984e-16, -5.96311195e-18, -5.20417043e-18],\n",
              "       [-4.33480660e-03,  7.18961824e-03,  5.56059080e-03, ...,\n",
              "        -9.54097912e-18, -6.78710560e-17, -9.19403442e-17],\n",
              "       [-1.82183145e-02,  6.67235837e-03, -1.00769489e-02, ...,\n",
              "        -6.74071809e-02, -5.04310575e-02, -2.30276898e-02]])"
            ]
          },
          "metadata": {
            "tags": []
          },
          "execution_count": 15
        }
      ]
    },
    {
      "cell_type": "code",
      "metadata": {
        "id": "21p_y3iEJY2b",
        "colab_type": "code",
        "colab": {}
      },
      "source": [
        "#s"
      ],
      "execution_count": 17,
      "outputs": []
    },
    {
      "cell_type": "code",
      "metadata": {
        "id": "SgMDJorKJbxT",
        "colab_type": "code",
        "colab": {
          "base_uri": "https://localhost:8080/",
          "height": 235
        },
        "outputId": "1b9b3230-607b-4318-de5d-4ee23ca8c33b"
      },
      "source": [
        "Vh"
      ],
      "execution_count": 18,
      "outputs": [
        {
          "output_type": "execute_result",
          "data": {
            "text/plain": [
              "array([[-1.60882155e-05, -1.74412879e-04, -5.53025989e-04, ...,\n",
              "        -3.89592305e-05, -1.10174140e-04, -9.11078662e-05],\n",
              "       [ 3.49918116e-05,  1.71471610e-04,  5.70549777e-04, ...,\n",
              "         3.88166364e-05,  5.47919518e-05,  4.40739108e-05],\n",
              "       [ 9.59285101e-05, -1.03498377e-03,  7.73283939e-04, ...,\n",
              "        -7.41057908e-05,  3.83543338e-04,  3.49406752e-04],\n",
              "       ...,\n",
              "       [-9.66910194e-03,  1.40268277e-01, -1.54486343e-01, ...,\n",
              "        -1.31327436e-04, -6.02649466e-05, -3.13507103e-04],\n",
              "       [ 3.21473677e-03, -7.92662532e-02,  4.83203831e-02, ...,\n",
              "         1.46776037e-04,  5.01575482e-05,  2.34125124e-04],\n",
              "       [ 2.31210204e-02, -5.34944618e-02, -2.65281615e-02, ...,\n",
              "         4.32308996e-04, -4.26239476e-04, -2.94820178e-04]])"
            ]
          },
          "metadata": {
            "tags": []
          },
          "execution_count": 18
        }
      ]
    },
    {
      "cell_type": "code",
      "metadata": {
        "id": "dM_k_93pJgsZ",
        "colab_type": "code",
        "colab": {}
      },
      "source": [
        "V = np.transpose(Vh)"
      ],
      "execution_count": 21,
      "outputs": []
    },
    {
      "cell_type": "code",
      "metadata": {
        "id": "0pFCYP2XJljI",
        "colab_type": "code",
        "colab": {}
      },
      "source": [
        "#U*s*Vh #==vectors"
      ],
      "execution_count": 26,
      "outputs": []
    },
    {
      "cell_type": "code",
      "metadata": {
        "id": "_XCOOLF1KZBj",
        "colab_type": "code",
        "colab": {
          "base_uri": "https://localhost:8080/",
          "height": 195
        },
        "outputId": "d50958a3-fcf8-4d56-ee39-4456e4e22097"
      },
      "source": [
        "#Confirm that U, V are orthonormal\n",
        "\n",
        "np.multiply(U,Vh)"
      ],
      "execution_count": 30,
      "outputs": [
        {
          "output_type": "error",
          "ename": "ValueError",
          "evalue": "ignored",
          "traceback": [
            "\u001b[0;31m---------------------------------------------------------------------------\u001b[0m",
            "\u001b[0;31mValueError\u001b[0m                                Traceback (most recent call last)",
            "\u001b[0;32m<ipython-input-30-82e83f11de8b>\u001b[0m in \u001b[0;36m<module>\u001b[0;34m()\u001b[0m\n\u001b[1;32m      1\u001b[0m \u001b[0;31m#Confirm that U, V are orthonormal\u001b[0m\u001b[0;34m\u001b[0m\u001b[0;34m\u001b[0m\u001b[0;34m\u001b[0m\u001b[0m\n\u001b[1;32m      2\u001b[0m \u001b[0;34m\u001b[0m\u001b[0m\n\u001b[0;32m----> 3\u001b[0;31m \u001b[0mnp\u001b[0m\u001b[0;34m.\u001b[0m\u001b[0mmultiply\u001b[0m\u001b[0;34m(\u001b[0m\u001b[0mU\u001b[0m\u001b[0;34m,\u001b[0m\u001b[0mVh\u001b[0m\u001b[0;34m)\u001b[0m\u001b[0;34m\u001b[0m\u001b[0;34m\u001b[0m\u001b[0m\n\u001b[0m",
            "\u001b[0;31mValueError\u001b[0m: operands could not be broadcast together with shapes (891,891) (891,15499) "
          ]
        }
      ]
    },
    {
      "cell_type": "code",
      "metadata": {
        "id": "rNlhcOflK0-P",
        "colab_type": "code",
        "colab": {
          "base_uri": "https://localhost:8080/",
          "height": 265
        },
        "outputId": "c5026924-f5e0-40ad-a938-da45a5aaf9f7"
      },
      "source": [
        "#Topics\n",
        "\n",
        "#What can we say about the singular values s?\n",
        "\n",
        "plt.plot(s);"
      ],
      "execution_count": 31,
      "outputs": [
        {
          "output_type": "display_data",
          "data": {
            "image/png": "[encoded data removed]",
            "text/plain": [
              "<Figure size 432x288 with 1 Axes>"
            ]
          },
          "metadata": {
            "tags": [],
            "needs_background": "light"
          }
        }
      ]
    },
    {
      "cell_type": "code",
      "metadata": {
        "id": "Ku-zNz8oLS01",
        "colab_type": "code",
        "colab": {
          "base_uri": "https://localhost:8080/",
          "height": 282
        },
        "outputId": "06713e90-d80b-4f8f-9f81-317ee82c3248"
      },
      "source": [
        "plt.plot(s[:10])"
      ],
      "execution_count": 32,
      "outputs": [
        {
          "output_type": "execute_result",
          "data": {
            "text/plain": [
              "[<matplotlib.lines.Line2D at 0x7f7444a155f8>]"
            ]
          },
          "metadata": {
            "tags": []
          },
          "execution_count": 32
        },
        {
          "output_type": "display_data",
          "data": {
            "image/png": "[encoded data removed]",
            "text/plain": [
              "<Figure size 432x288 with 1 Axes>"
            ]
          },
          "metadata": {
            "tags": [],
            "needs_background": "light"
          }
        }
      ]
    },
    {
      "cell_type": "code",
      "metadata": {
        "id": "2Jn2WB9YLVwc",
        "colab_type": "code",
        "colab": {}
      },
      "source": [
        "num_top_words=8\n",
        "\n",
        "def show_topics(a):\n",
        "    top_words = lambda t: [vocab[i] for i in np.argsort(t)[:-num_top_words-1:-1]]\n",
        "    topic_words = ([top_words(t) for t in a])\n",
        "    return [' '.join(t) for t in topic_words]"
      ],
      "execution_count": 33,
      "outputs": []
    },
    {
      "cell_type": "code",
      "metadata": {
        "id": "CBxWm4RaLcbA",
        "colab_type": "code",
        "colab": {
          "base_uri": "https://localhost:8080/",
          "height": 185
        },
        "outputId": "6fce9526-411f-4396-ea24-8ec9591bd527"
      },
      "source": [
        "show_topics(Vh[:10])"
      ],
      "execution_count": 34,
      "outputs": [
        {
          "output_type": "execute_result",
          "data": {
            "text/plain": [
              "['gusti thundershow vikasdubey microfin startupcapit vaidyasala botani prabhukumar',\n",
              " 'say covid peopl case state polic time govern',\n",
              " 'india china polic case say state govern chines',\n",
              " 'say covid patient case hospit polic user test',\n",
              " 'covid china patient india test hospit care chines',\n",
              " 'polic say dubey china vika chines court film',\n",
              " 'say school cafe student year coffe class educ',\n",
              " 'china patient peopl chines cafe say polic film',\n",
              " 'film peopl congress govern minist parti lockdown chief',\n",
              " 'student school patient film class polic china hospit']"
            ]
          },
          "metadata": {
            "tags": []
          },
          "execution_count": 34
        }
      ]
    },
    {
      "cell_type": "code",
      "metadata": {
        "id": "HMzSr2rfLfGu",
        "colab_type": "code",
        "colab": {}
      },
      "source": [
        ""
      ],
      "execution_count": null,
      "outputs": []
    },
    {
      "cell_type": "markdown",
      "metadata": {
        "id": "dCwK0Gx9LmUU",
        "colab_type": "text"
      },
      "source": [
        "Non-negative Matrix Factorization (NMF)\n",
        "\n"
      ]
    },
    {
      "cell_type": "code",
      "metadata": {
        "id": "680A0ifqLumR",
        "colab_type": "code",
        "colab": {}
      },
      "source": [
        "m,n=vectors.shape\n",
        "d=15  # num topics"
      ],
      "execution_count": 38,
      "outputs": []
    },
    {
      "cell_type": "code",
      "metadata": {
        "id": "geXpNlHvLvTm",
        "colab_type": "code",
        "colab": {}
      },
      "source": [
        "clf = decomposition.NMF(n_components=d, random_state=1)\n",
        "\n",
        "W1 = clf.fit_transform(vectors)\n",
        "H1 = clf.components_"
      ],
      "execution_count": 39,
      "outputs": []
    },
    {
      "cell_type": "code",
      "metadata": {
        "id": "1EaHm_zWL6P1",
        "colab_type": "code",
        "colab": {
          "base_uri": "https://localhost:8080/",
          "height": 269
        },
        "outputId": "52279286-17c2-4c44-f427-d8ef67adf463"
      },
      "source": [
        "show_topics(H1)"
      ],
      "execution_count": 40,
      "outputs": [
        {
          "output_type": "execute_result",
          "data": {
            "text/plain": [
              "['indian user altern video applic mobil develop offer',\n",
              " 'say year add work offici pandem tell month',\n",
              " 'friend lucki today love like care zodiac time',\n",
              " 'china india chines indian border militari area armi',\n",
              " 'polic dubey say vika case arrest court alleg',\n",
              " 'statu remov centuri protest citi year columbus slave',\n",
              " 'case test covid state lockdown report govern peopl',\n",
              " 'student school class educ onlin exam learn year',\n",
              " 'film time peopl like work shoot play come',\n",
              " 'cafe coffe say deliveri servic start like peopl',\n",
              " 'congress minist parti govern leader chief pilot polit',\n",
              " 'cent crore india govern sector price lockdown lakh',\n",
              " 'patient covid hospit peopl care rehabilit intens say',\n",
              " 'taiwan countri trump china health virus mask presid',\n",
              " 'singh base india pakistan terrorist punjab terror khalistan']"
            ]
          },
          "metadata": {
            "tags": []
          },
          "execution_count": 40
        }
      ]
    },
    {
      "cell_type": "code",
      "metadata": {
        "id": "frvjgoX0L-QP",
        "colab_type": "code",
        "colab": {}
      },
      "source": [
        ""
      ],
      "execution_count": null,
      "outputs": []
    },
    {
      "cell_type": "markdown",
      "metadata": {
        "id": "Mkpdzzr8MWpg",
        "colab_type": "text"
      },
      "source": [
        "(TF-IDF) is a way to normalize term counts by taking into account how often they appear in a document, how long the document is, and how commmon/rare the term is.\n",
        "\n",
        "TF = (# occurrences of term t in document) / (# of words in documents)\n",
        "\n",
        "IDF = log(# of documents / # documents with term t in it)"
      ]
    },
    {
      "cell_type": "code",
      "metadata": {
        "id": "cBldAKL-MYVE",
        "colab_type": "code",
        "colab": {}
      },
      "source": [
        "vectorizer_tfidf = TfidfVectorizer(stop_words='english')\n",
        "vectors_tfidf = vectorizer_tfidf.fit_transform(Xtrain) # (documents, vocab)"
      ],
      "execution_count": 42,
      "outputs": []
    },
    {
      "cell_type": "code",
      "metadata": {
        "id": "nEURaeFDNA1l",
        "colab_type": "code",
        "colab": {}
      },
      "source": [
        "W1 = clf.fit_transform(vectors_tfidf)\n",
        "H1 = clf.components_"
      ],
      "execution_count": 43,
      "outputs": []
    },
    {
      "cell_type": "code",
      "metadata": {
        "id": "5wQU4_tLNFV9",
        "colab_type": "code",
        "colab": {
          "base_uri": "https://localhost:8080/",
          "height": 269
        },
        "outputId": "77d2526d-7498-4da9-a6d0-5111b017cc16"
      },
      "source": [
        "show_topics(H1)"
      ],
      "execution_count": 44,
      "outputs": [
        {
          "output_type": "execute_result",
          "data": {
            "text/plain": [
              "['case death test covid state total number infect',\n",
              " 'china india chines beij militari countri border modi',\n",
              " 'film actor love shoot work stori charact releas',\n",
              " 'polic dubey vika arrest say kill kanpur encount',\n",
              " 'congress pilot mlas parti rajasthan minist gehlot chief',\n",
              " 'student school class exam result teacher educ onlin',\n",
              " 'cent crore bank market sector price infosi rise',\n",
              " 'troop armi disengag chines galwan indian valley area',\n",
              " 'user app relianc platform mobil video technolog indian',\n",
              " 'test team england player cricket koh captain match',\n",
              " 'court petit order suprem plea high govern justic',\n",
              " 'patient hospit covid drug test say vaccin plasma',\n",
              " 'trump snapchat presid biden say campaign elect poll',\n",
              " 'statu remov slave columbus centuri protest slaveri coloni',\n",
              " 'lockdown peopl govern india time spread say home']"
            ]
          },
          "metadata": {
            "tags": []
          },
          "execution_count": 44
        }
      ]
    },
    {
      "cell_type": "code",
      "metadata": {
        "id": "LfpCJfTtNINg",
        "colab_type": "code",
        "colab": {
          "base_uri": "https://localhost:8080/",
          "height": 283
        },
        "outputId": "a989d78b-c29d-4e78-869b-3fd927cc5ae8"
      },
      "source": [
        "plt.plot(clf.components_[0])"
      ],
      "execution_count": 45,
      "outputs": [
        {
          "output_type": "execute_result",
          "data": {
            "text/plain": [
              "[<matplotlib.lines.Line2D at 0x7f744499d940>]"
            ]
          },
          "metadata": {
            "tags": []
          },
          "execution_count": 45
        },
        {
          "output_type": "display_data",
          "data": {
            "image/png": "[encoded data removed]",
            "text/plain": [
              "<Figure size 432x288 with 1 Axes>"
            ]
          },
          "metadata": {
            "tags": [],
            "needs_background": "light"
          }
        }
      ]
    },
    {
      "cell_type": "code",
      "metadata": {
        "id": "-JXG0yY7NPJn",
        "colab_type": "code",
        "colab": {
          "base_uri": "https://localhost:8080/",
          "height": 34
        },
        "outputId": "237b90b5-ca47-42b8-a2f2-eaf5a60645ac"
      },
      "source": [
        "clf.reconstruction_err_"
      ],
      "execution_count": 46,
      "outputs": [
        {
          "output_type": "execute_result",
          "data": {
            "text/plain": [
              "27.65897067930081"
            ]
          },
          "metadata": {
            "tags": []
          },
          "execution_count": 46
        }
      ]
    },
    {
      "cell_type": "code",
      "metadata": {
        "id": "jwpUvU4MNSe6",
        "colab_type": "code",
        "colab": {}
      },
      "source": [
        "#NMF from scratch in numpy, using SGD\n",
        "\n"
      ],
      "execution_count": null,
      "outputs": []
    },
    {
      "cell_type": "markdown",
      "metadata": {
        "id": "_y9IAtxuN8GW",
        "colab_type": "text"
      },
      "source": [
        "Applying SGD to NMF\n",
        "Goal: Decompose V(m×n) into\n",
        "V≈WH\n",
        "where W(m×d) and H(d×n), W,H>=0, and we've minimized the Frobenius norm of V−WH.\n",
        "\n",
        "Approach: We will pick random positive W & H, and then use SGD to optimize.\n",
        "To use SGD, we need to know the gradient of the loss function."
      ]
    },
    {
      "cell_type": "code",
      "metadata": {
        "id": "p3oGlBrwOCAU",
        "colab_type": "code",
        "colab": {}
      },
      "source": [
        "lam=1e3\n",
        "lr=1e-2\n",
        "m, n = vectors_tfidf.shape\n",
        "W1 = clf.fit_transform(vectors)\n",
        "H1 = clf.components_\n",
        "show_topics(H1)"
      ],
      "execution_count": null,
      "outputs": []
    },
    {
      "cell_type": "code",
      "metadata": {
        "id": "aqrGftdtOJmc",
        "colab_type": "code",
        "colab": {}
      },
      "source": [
        "mu = 1e-6\n",
        "def grads(M, W, H):\n",
        "    R = W@H-M\n",
        "    return R@H.T + penalty(W, mu)*lam, W.T@R + penalty(H, mu)*lam # dW, dH\n",
        "def penalty(M, mu):\n",
        "    return np.where(M>=mu,0, np.min(M - mu, 0))\n",
        "def upd(M, W, H, lr):\n",
        "    dW,dH = grads(M,W,H)\n",
        "    W -= lr*dW; H -= lr*dH\n",
        "def report(M,W,H): \n",
        "    print(np.linalg.norm(M-W@H), W.min(), H.min(), (W<0).sum(), (H<0).sum())\n",
        "W = np.abs(np.random.normal(scale=0.01, size=(m,d)))\n",
        "H = np.abs(np.random.normal(scale=0.01, size=(d,n)))\n",
        "report(vectors_tfidf, W, H)"
      ],
      "execution_count": null,
      "outputs": []
    },
    {
      "cell_type": "code",
      "metadata": {
        "id": "eJxlxkDjOJp_",
        "colab_type": "code",
        "colab": {}
      },
      "source": [
        "upd(vectors_tfidf,W,H,lr)\n",
        "report(vectors_tfidf, W, H)"
      ],
      "execution_count": null,
      "outputs": []
    },
    {
      "cell_type": "code",
      "metadata": {
        "id": "3e_cV5-ROJk0",
        "colab_type": "code",
        "colab": {}
      },
      "source": [
        "for i in range(50): \n",
        "    upd(vectors_tfidf,W,H,lr)\n",
        "    if i % 10 == 0: report(vectors_tfidf,W,H)"
      ],
      "execution_count": null,
      "outputs": []
    },
    {
      "cell_type": "code",
      "metadata": {
        "id": "HscQSiiROVEw",
        "colab_type": "code",
        "colab": {}
      },
      "source": [
        "show_topics(H)"
      ],
      "execution_count": null,
      "outputs": []
    },
    {
      "cell_type": "code",
      "metadata": {
        "id": "eWCoa7ElOVC_",
        "colab_type": "code",
        "colab": {}
      },
      "source": [
        ""
      ],
      "execution_count": null,
      "outputs": []
    },
    {
      "cell_type": "code",
      "metadata": {
        "id": "J23-ixqtOZaB",
        "colab_type": "code",
        "colab": {}
      },
      "source": [
        "# with help of pytorch"
      ],
      "execution_count": null,
      "outputs": []
    },
    {
      "cell_type": "code",
      "metadata": {
        "id": "DHeAWXyTOZd0",
        "colab_type": "code",
        "colab": {}
      },
      "source": [
        "import torch\n",
        "import torch.cuda as tc\n",
        "from torch.autograd import Variable"
      ],
      "execution_count": null,
      "outputs": []
    },
    {
      "cell_type": "code",
      "metadata": {
        "id": "zbW0njOMOrK4",
        "colab_type": "code",
        "colab": {}
      },
      "source": [
        "def V(M): return Variable(M, requires_grad=True)"
      ],
      "execution_count": null,
      "outputs": []
    },
    {
      "cell_type": "code",
      "metadata": {
        "id": "9aq4rm6COxb1",
        "colab_type": "code",
        "colab": {}
      },
      "source": [
        "v=vectors_tfidf.todense()\n",
        "t_vectors = torch.Tensor(v.astype(np.float32)).cuda()"
      ],
      "execution_count": null,
      "outputs": []
    },
    {
      "cell_type": "code",
      "metadata": {
        "id": "l7hKmUnXOZYM",
        "colab_type": "code",
        "colab": {}
      },
      "source": [
        "\n",
        "mu = 1e-5\n",
        "\n",
        "\n",
        "def grads_t(M, W, H):\n",
        "    R = W.mm(H)-M\n",
        "    return (R.mm(H.t()) + penalty_t(W, mu)*lam, \n",
        "        W.t().mm(R) + penalty_t(H, mu)*lam) # dW, dH\n",
        "\n",
        "def penalty_t(M, mu):\n",
        "    return (M<mu).type(tc.FloatTensor)*torch.clamp(M - mu, max=0.)\n",
        "\n",
        "def upd_t(M, W, H, lr):\n",
        "    dW,dH = grads_t(M,W,H)\n",
        "    W.sub_(lr*dW); H.sub_(lr*dH)\n",
        "\n",
        "def report_t(M,W,H): \n",
        "    print((M-W.mm(H)).norm(2), W.min(), H.min(), (W<0).sum(), (H<0).sum())\n"
      ],
      "execution_count": null,
      "outputs": []
    },
    {
      "cell_type": "code",
      "metadata": {
        "id": "kWqkASEbO3im",
        "colab_type": "code",
        "colab": {}
      },
      "source": [
        "t_W = tc.FloatTensor(m,d)\n",
        "t_H = tc.FloatTensor(d,n)\n",
        "t_W.normal_(std=0.01).abs_(); \n",
        "t_H.normal_(std=0.01).abs_();\n"
      ],
      "execution_count": null,
      "outputs": []
    },
    {
      "cell_type": "code",
      "metadata": {
        "id": "GFCut_NEO3fs",
        "colab_type": "code",
        "colab": {}
      },
      "source": [
        "d=6; lam=100; lr=0.05\n",
        "for i in range(1000): \n",
        "    upd_t(t_vectors,t_W,t_H,lr)\n",
        "    if i % 100 == 0: \n",
        "        report_t(t_vectors,t_W,t_H)\n",
        "        lr *= 0.9\n"
      ],
      "execution_count": null,
      "outputs": []
    },
    {
      "cell_type": "code",
      "metadata": {
        "id": "dxW8-mS4O9if",
        "colab_type": "code",
        "colab": {}
      },
      "source": [
        "show_topics(t_H.cpu().numpy())"
      ],
      "execution_count": null,
      "outputs": []
    },
    {
      "cell_type": "code",
      "metadata": {
        "id": "pzN5azl4O9l9",
        "colab_type": "code",
        "colab": {}
      },
      "source": [
        "plt.plot(t_H.cpu().numpy()[0])"
      ],
      "execution_count": null,
      "outputs": []
    },
    {
      "cell_type": "code",
      "metadata": {
        "id": "7kmacl8hO9gn",
        "colab_type": "code",
        "colab": {}
      },
      "source": [
        "t_W.mm(t_H).max()"
      ],
      "execution_count": null,
      "outputs": []
    },
    {
      "cell_type": "code",
      "metadata": {
        "id": "mth-TtYQPFeN",
        "colab_type": "code",
        "colab": {}
      },
      "source": [
        "t_vectors.max()"
      ],
      "execution_count": null,
      "outputs": []
    },
    {
      "cell_type": "code",
      "metadata": {
        "id": "0ZTuKF6ZPFbT",
        "colab_type": "code",
        "colab": {}
      },
      "source": [
        ""
      ],
      "execution_count": null,
      "outputs": []
    },
    {
      "cell_type": "markdown",
      "metadata": {
        "id": "2B8upQioPUNX",
        "colab_type": "text"
      },
      "source": [
        "Above, we used our knowledge of what the gradient of the loss function was to do SGD from scratch in PyTorch. However, PyTorch has an automatic differentiation package, autograd which we could use instead. This is really useful, in that we can use autograd on problems where we don't know what the derivative is.\n",
        "\n",
        "The approach we use below is very general, and would work for almost any optimization problem."
      ]
    },
    {
      "cell_type": "code",
      "metadata": {
        "id": "pBVy8AIzPUq2",
        "colab_type": "code",
        "colab": {}
      },
      "source": [
        "# for nmf\n",
        "\n",
        "lam=1e6\n",
        "pW = Variable(tc.FloatTensor(m,d), requires_grad=True)\n",
        "pH = Variable(tc.FloatTensor(d,n), requires_grad=True)\n",
        "pW.data.normal_(std=0.01).abs_()\n",
        "pH.data.normal_(std=0.01).abs_();\n",
        "def report():\n",
        "    W,H = pW.data, pH.data\n",
        "    print((M-pW.mm(pH)).norm(2).data[0], W.min(), H.min(), (W<0).sum(), (H<0).sum())\n",
        "\n",
        "def penalty(A):\n",
        "    return torch.pow((A<0).type(tc.FloatTensor)*torch.clamp(A, max=0.), 2)\n",
        "\n",
        "def penalize(): return penalty(pW).mean() + penalty(pH).mean()\n",
        "\n",
        "def loss(): return (M-pW.mm(pH)).norm(2) + penalize()*lam\n",
        "M = Variable(t_vectors).cuda()\n",
        "opt = torch.optim.Adam([pW,pH], lr=1e-3, betas=(0.9,0.9))\n",
        "lr = 0.05\n",
        "report()"
      ],
      "execution_count": null,
      "outputs": []
    },
    {
      "cell_type": "code",
      "metadata": {
        "id": "3BnH9P1NPbZz",
        "colab_type": "code",
        "colab": {}
      },
      "source": [
        "# for svd\n",
        "\n",
        "for i in range(1000): \n",
        "    opt.zero_grad()\n",
        "    l = loss()\n",
        "    l.backward()\n",
        "    opt.step()\n",
        "    if i % 100 == 99: \n",
        "        report()\n",
        "        lr *= 0.9     # learning rate annealling"
      ],
      "execution_count": null,
      "outputs": []
    },
    {
      "cell_type": "code",
      "metadata": {
        "id": "D60N7LQSPbdF",
        "colab_type": "code",
        "colab": {}
      },
      "source": [
        "h = pH.data.cpu().numpy()\n",
        "show_topics(h)"
      ],
      "execution_count": null,
      "outputs": []
    },
    {
      "cell_type": "code",
      "metadata": {
        "id": "bw0RPfw5PbYC",
        "colab_type": "code",
        "colab": {}
      },
      "source": [
        "plt.plot(h[0]);"
      ],
      "execution_count": null,
      "outputs": []
    },
    {
      "cell_type": "markdown",
      "metadata": {
        "id": "SvJIMn2bP3Op",
        "colab_type": "text"
      },
      "source": [
        "Truncated SVD"
      ]
    },
    {
      "cell_type": "code",
      "metadata": {
        "id": "s-VnpoeNP3uo",
        "colab_type": "code",
        "colab": {}
      },
      "source": [
        "#We saved a lot of time when we calculated NMF by only calculating the subset of columns we were interested in. Is there a way to get this benefit with SVD? Yes there is! It's called truncated SVD. We are just interested in the vectors corresponding to the largest singular values."
      ],
      "execution_count": 47,
      "outputs": []
    },
    {
      "cell_type": "code",
      "metadata": {
        "id": "9Y1VBDWxQXZL",
        "colab_type": "code",
        "colab": {}
      },
      "source": [
        ""
      ],
      "execution_count": null,
      "outputs": []
    },
    {
      "cell_type": "markdown",
      "metadata": {
        "id": "r5NBRfxpQYaO",
        "colab_type": "text"
      },
      "source": [
        "Implementing our own Randomized SVD"
      ]
    },
    {
      "cell_type": "code",
      "metadata": {
        "id": "q3j0OF7zQY3E",
        "colab_type": "code",
        "colab": {}
      },
      "source": [
        "from scipy import linalg\n",
        "\n",
        "# computes an orthonormal matrix whose range approximates the range of A\n",
        "# power_iteration_normalizer can be safe_sparse_dot (fast but unstable), LU (imbetween), or QR (slow but most accurate)\n",
        "def randomized_range_finder(A, size, n_iter=5):\n",
        "    Q = np.random.normal(size=(A.shape[1], size))\n",
        "    \n",
        "    for i in range(n_iter):\n",
        "        Q, _ = linalg.lu(A @ Q, permute_l=True)\n",
        "        Q, _ = linalg.lu(A.T @ Q, permute_l=True)\n",
        "        \n",
        "    Q, _ = linalg.qr(A @ Q, mode='economic')\n",
        "    return Q\n",
        "\n",
        "#And here's our randomized SVD method:\n",
        "\n",
        "def randomized_svd(M, n_components, n_oversamples=10, n_iter=4):\n",
        "    \n",
        "    n_random = n_components + n_oversamples\n",
        "    \n",
        "    Q = randomized_range_finder(M, n_random, n_iter)\n",
        "    \n",
        "    # project M to the (k + p) dimensional space using the basis vectors\n",
        "    B = Q.T @ M\n",
        "    \n",
        "    # compute the SVD on the thin matrix: (k + p) wide\n",
        "    Uhat, s, V = linalg.svd(B, full_matrices=False)\n",
        "    del B\n",
        "    U = Q @ Uhat\n",
        "    \n",
        "    return U[:, :n_components], s[:n_components], V[:n_components, :]\n",
        "u, s, v = randomized_svd(vectors, 5)\n",
        "%time u, s, v = randomized_svd(vectors, 5)"
      ],
      "execution_count": null,
      "outputs": []
    },
    {
      "cell_type": "code",
      "metadata": {
        "id": "ebuIiAF4QmXc",
        "colab_type": "code",
        "colab": {}
      },
      "source": [
        "u.shape, s.shape, v.shape"
      ],
      "execution_count": null,
      "outputs": []
    },
    {
      "cell_type": "code",
      "metadata": {
        "id": "nTK7OozuQmUG",
        "colab_type": "code",
        "colab": {}
      },
      "source": [
        "show_topics(v)"
      ],
      "execution_count": null,
      "outputs": []
    },
    {
      "cell_type": "code",
      "metadata": {
        "id": "WuDJIRZKQw-B",
        "colab_type": "code",
        "colab": {}
      },
      "source": [
        ""
      ],
      "execution_count": null,
      "outputs": []
    },
    {
      "cell_type": "code",
      "metadata": {
        "id": "1yp4DNDiQw7H",
        "colab_type": "code",
        "colab": {}
      },
      "source": [
        ""
      ],
      "execution_count": null,
      "outputs": []
    }
  ]
}